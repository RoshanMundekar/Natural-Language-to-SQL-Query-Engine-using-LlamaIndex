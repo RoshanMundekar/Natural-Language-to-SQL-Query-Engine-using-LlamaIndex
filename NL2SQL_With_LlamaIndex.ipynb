{
 "cells": [
  {
   "cell_type": "code",
   "execution_count": null,
   "metadata": {},
   "outputs": [],
   "source": []
  },
  {
   "cell_type": "code",
   "execution_count": 1,
   "metadata": {
    "id": "asnqVxCzdQfI"
   },
   "outputs": [],
   "source": [
    "import logging\n",
    "import sys\n",
    "\n",
    "logging.basicConfig(stream=sys.stdout, level=logging.INFO, force=True)\n",
    "logging.getLogger().addHandler(logging.StreamHandler(stream=sys.stdout))\n",
    "from IPython.display import Markdown, display"
   ]
  },
  {
   "cell_type": "code",
   "execution_count": 4,
   "metadata": {
    "colab": {
     "base_uri": "https://localhost:8080/"
    },
    "id": "XqskaZZfmKyZ",
    "outputId": "252f1d6e-3243-469a-cca5-451420016864"
   },
   "outputs": [],
   "source": [
    "# !pip install pymysql"
   ]
  },
  {
   "cell_type": "code",
   "execution_count": 7,
   "metadata": {
    "id": "o34KEKFSqu4M"
   },
   "outputs": [],
   "source": [
    "# !pip install llama_index"
   ]
  },
  {
   "cell_type": "code",
   "execution_count": 8,
   "metadata": {
    "id": "Djyt4ntlA2kO"
   },
   "outputs": [],
   "source": [
    "# pip install --force-reinstall 'sqlalchemy<2.0.0'"
   ]
  },
  {
   "cell_type": "code",
   "execution_count": 9,
   "metadata": {
    "id": "gVol6tE8mVRi"
   },
   "outputs": [],
   "source": [
    "import pymysql"
   ]
  },
  {
   "cell_type": "markdown",
   "metadata": {
    "id": "4XE0pxRww7No"
   },
   "source": [
    "## Connect to Database"
   ]
  },
  {
   "cell_type": "code",
   "execution_count": 10,
   "metadata": {
    "id": "bb_dKSVXhxt3"
   },
   "outputs": [],
   "source": [
    "db_user = \"root\"\n",
    "db_password = \"root\"\n",
    "db_host = \"localhost\"\n",
    "db_name = \"classicmodels\""
   ]
  },
  {
   "cell_type": "code",
   "execution_count": 11,
   "metadata": {
    "colab": {
     "base_uri": "https://localhost:8080/"
    },
    "id": "Gsv3AI5AlwUc",
    "outputId": "bee2205b-aa33-4bc2-d612-d6d2ee3c6160"
   },
   "outputs": [
    {
     "name": "stdout",
     "output_type": "stream",
     "text": [
      "('customers',)\n",
      "('employees',)\n",
      "('offices',)\n",
      "('orderdetails',)\n",
      "('orders',)\n",
      "('payments',)\n",
      "('productlines',)\n",
      "('products',)\n"
     ]
    }
   ],
   "source": [
    "from sqlalchemy import create_engine, text\n",
    "\n",
    "# Construct the connection string\n",
    "connection_string = f\"mysql+pymysql://{db_user}:{db_password}@{db_host}/{db_name}?charset=utf8\"\n",
    "\n",
    "# Create an engine instance\n",
    "engine = create_engine(connection_string)\n",
    "\n",
    "# Test the connection using raw SQL\n",
    "with engine.connect() as connection:\n",
    "    result = connection.execute(text(\"show tables\"))\n",
    "    for row in result:\n",
    "        print(row)"
   ]
  },
  {
   "cell_type": "markdown",
   "metadata": {
    "id": "UeIX0zRWxBVd"
   },
   "source": [
    "## Load database to llamaIndex SQLDatabase"
   ]
  },
  {
   "cell_type": "code",
   "execution_count": null,
   "metadata": {},
   "outputs": [],
   "source": [
    "# !pip uninstall llama_index\n",
    "# !pip install llama_index\n",
    "# !pip install llama_index==0.5.0\n"
   ]
  },
  {
   "cell_type": "code",
   "execution_count": 9,
   "metadata": {
    "colab": {
     "base_uri": "https://localhost:8080/"
    },
    "id": "WpzC82mtrxT5",
    "outputId": "2fd4a8a7-19b1-4ad7-a2c3-5b10f91b733d"
   },
   "outputs": [],
   "source": [
    "from llama_index.core import SQLDatabase"
   ]
  },
  {
   "cell_type": "code",
   "execution_count": 10,
   "metadata": {
    "colab": {
     "base_uri": "https://localhost:8080/"
    },
    "id": "O79JFO7Tr3-E",
    "outputId": "864f4f9f-3bfa-4a54-b198-d343b426573a"
   },
   "outputs": [
    {
     "data": {
      "text/plain": [
       "<llama_index.core.utilities.sql_wrapper.SQLDatabase at 0x25d59e22cd0>"
      ]
     },
     "execution_count": 10,
     "metadata": {},
     "output_type": "execute_result"
    }
   ],
   "source": [
    "tables = ['customers', 'employees', 'offices', 'orderdetails', 'orders', 'payments', 'productlines', 'products']\n",
    "sql_database = SQLDatabase(engine, include_tables=tables, sample_rows_in_table_info=2)\n",
    "sql_database"
   ]
  },
  {
   "cell_type": "code",
   "execution_count": 11,
   "metadata": {
    "colab": {
     "base_uri": "https://localhost:8080/"
    },
    "id": "AXf7FLDUr_qB",
    "outputId": "1f12f61f-4d1e-400c-955c-bdd33a712083"
   },
   "outputs": [
    {
     "data": {
      "text/plain": [
       "{'customers',\n",
       " 'employees',\n",
       " 'offices',\n",
       " 'orderdetails',\n",
       " 'orders',\n",
       " 'payments',\n",
       " 'productlines',\n",
       " 'products'}"
      ]
     },
     "execution_count": 11,
     "metadata": {},
     "output_type": "execute_result"
    }
   ],
   "source": [
    "sql_database._all_tables"
   ]
  },
  {
   "cell_type": "code",
   "execution_count": 12,
   "metadata": {
    "colab": {
     "base_uri": "https://localhost:8080/",
     "height": 121
    },
    "id": "YDdsRtylsCvB",
    "outputId": "2b01a53b-5c03-42bb-b6d0-d4477d2f2d41"
   },
   "outputs": [
    {
     "data": {
      "text/plain": [
       "<bound method SQLDatabase.get_single_table_info of <llama_index.core.utilities.sql_wrapper.SQLDatabase object at 0x0000025D59E22CD0>>"
      ]
     },
     "execution_count": 12,
     "metadata": {},
     "output_type": "execute_result"
    }
   ],
   "source": [
    "sql_database.get_single_table_info"
   ]
  },
  {
   "cell_type": "markdown",
   "metadata": {
    "id": "uMncMEfVxIBT"
   },
   "source": [
    "## Connect to OpenAI account"
   ]
  },
  {
   "cell_type": "code",
   "execution_count": 13,
   "metadata": {
    "id": "sZZ9L0uQsQpA"
   },
   "outputs": [],
   "source": [
    "import os\n",
    "import openai"
   ]
  },
  {
   "cell_type": "code",
   "execution_count": null,
   "metadata": {
    "id": "zYtPpql9wrw5"
   },
   "outputs": [],
   "source": [
    "openai.api_key = \"\""
   ]
  },
  {
   "cell_type": "code",
   "execution_count": null,
   "metadata": {},
   "outputs": [],
   "source": [
    "# !pip install setuptools cython\n",
    "# !pip install aimrocks\n",
    "# !pip install llama-index-callbacks-aim\n",
    "# !pip install --upgrade pip setuptools wheel\n",
    "# !pip install llama-index-callbacks-aim --no-deps\n",
    "# !pip install aimrocks\n",
    "# !pip install other-required-packages\n",
    "# !pip install --upgrade llama-index\n",
    "# !pip install --upgrade llama-index\n",
    "\n",
    "# !pip install llama-index==0.6.0\n"
   ]
  },
  {
   "cell_type": "code",
   "execution_count": 16,
   "metadata": {
    "id": "7ywQn3vHw44-"
   },
   "outputs": [],
   "source": [
    "\n",
    "# !pip show llama_index\n",
    "\n",
    "# !pip install llama_index==0.5.0\n",
    "# !pip install langchain_community\n",
    "\n",
    "# !pip install --upgrade llama_index\n",
    "# !pip install --upgrade llama_index\n",
    "# !pip install llama_index==0.5.16\n",
    "# !pip install llama_index[langchain]\n",
    "# !pip install llama_index==0.5.0\n",
    "# !pip install --upgrade langchain\n",
    "# !pip install llama-index llama-index-llms-ollama\n",
    "# !pip install --upgrade langchain\n"
   ]
  },
  {
   "cell_type": "markdown",
   "metadata": {
    "id": "7Cy6D7p6xTtg"
   },
   "source": [
    "## Connect to LLM and initialize the service context"
   ]
  },
  {
   "cell_type": "code",
   "execution_count": 17,
   "metadata": {
    "id": "SIzfNJajwunr"
   },
   "outputs": [],
   "source": [
    "import tiktoken\n",
    "from llama_index.core.callbacks import CallbackManager, TokenCountingHandler\n",
    "token_counter = TokenCountingHandler(\n",
    "    tokenizer=tiktoken.encoding_for_model(\"gpt-3.5-turbo\").encode\n",
    ")\n",
    "\n",
    "callback_manager = CallbackManager([token_counter])"
   ]
  },
  {
   "cell_type": "code",
   "execution_count": null,
   "metadata": {},
   "outputs": [],
   "source": []
  },
  {
   "cell_type": "code",
   "execution_count": 18,
   "metadata": {},
   "outputs": [],
   "source": [
    "\n",
    "from llama_index.embeddings.openai import OpenAIEmbedding\n",
    "from llama_index.core.node_parser import SentenceSplitter\n",
    "from llama_index.llms.openai import OpenAI\n",
    "from llama_index.core import Settings\n",
    "\n",
    "Settings.llm = OpenAI(model=\"gpt-3.5-turbo\")\n",
    "Settings.embed_model = OpenAIEmbedding(model=\"text-embedding-3-small\")\n",
    "Settings.node_parser = SentenceSplitter(chunk_size=512, chunk_overlap=20)\n",
    "Settings.num_output = 512\n",
    "Settings.context_window = 3900\n",
    "\n",
    "\n"
   ]
  },
  {
   "cell_type": "markdown",
   "metadata": {
    "id": "LNC8smcaxZCl"
   },
   "source": [
    "## Create SQL table node mapping"
   ]
  },
  {
   "cell_type": "code",
   "execution_count": 19,
   "metadata": {
    "id": "Vbkj9BEk0Nqt"
   },
   "outputs": [],
   "source": [
    "#creating SQL table node mapping\n",
    "from llama_index.core import VectorStoreIndex\n",
    "from llama_index.core.objects import ObjectIndex, SQLTableNodeMapping, SQLTableSchema\n",
    "import pandas as pd\n",
    "\n",
    "# list all the tables from database and crate table schema for prompt to LLM\n",
    "tables = list(sql_database._all_tables)\n",
    "table_node_mapping = SQLTableNodeMapping(sql_database)\n",
    "table_schema_objs = []\n",
    "for table in tables:\n",
    "    table_schema_objs.append((SQLTableSchema(table_name = table)))"
   ]
  },
  {
   "cell_type": "code",
   "execution_count": 20,
   "metadata": {
    "colab": {
     "base_uri": "https://localhost:8080/"
    },
    "id": "RXuln6id55cT",
    "outputId": "eaddc7c9-21e5-41ab-9a7f-b631bd7f10a3"
   },
   "outputs": [
    {
     "name": "stdout",
     "output_type": "stream",
     "text": [
      "[SQLTableSchema(table_name='customers', context_str=None), SQLTableSchema(table_name='payments', context_str=None), SQLTableSchema(table_name='productlines', context_str=None), SQLTableSchema(table_name='orderdetails', context_str=None), SQLTableSchema(table_name='orders', context_str=None), SQLTableSchema(table_name='products', context_str=None), SQLTableSchema(table_name='employees', context_str=None), SQLTableSchema(table_name='offices', context_str=None)]\n"
     ]
    }
   ],
   "source": [
    "print(table_schema_objs)"
   ]
  },
  {
   "cell_type": "markdown",
   "metadata": {
    "id": "gyVYfOfoxh9q"
   },
   "source": [
    "## Initialize SQL Table Retrieval Engine"
   ]
  },
  {
   "cell_type": "code",
   "execution_count": 21,
   "metadata": {
    "id": "mYTMGRF-4kpY"
   },
   "outputs": [
    {
     "name": "stdout",
     "output_type": "stream",
     "text": [
      "INFO:httpx:HTTP Request: POST https://api.openai.com/v1/embeddings \"HTTP/1.1 200 OK\"\n",
      "HTTP Request: POST https://api.openai.com/v1/embeddings \"HTTP/1.1 200 OK\"\n"
     ]
    }
   ],
   "source": [
    "from llama_index.core.indices.struct_store.sql_query import SQLTableRetrieverQueryEngine\n",
    "\n",
    "obj_index = ObjectIndex.from_objects(\n",
    "    table_schema_objs,\n",
    "    table_node_mapping,\n",
    "    VectorStoreIndex\n",
    ")"
   ]
  },
  {
   "cell_type": "code",
   "execution_count": 22,
   "metadata": {
    "id": "-1-6vmM95mcd"
   },
   "outputs": [],
   "source": [
    "# Create the query engine\n",
    "query_engine = SQLTableRetrieverQueryEngine(\n",
    "    sql_database, obj_index.as_retriever(similarity_top_k=3), service_context=Settings\n",
    ")"
   ]
  },
  {
   "cell_type": "code",
   "execution_count": 23,
   "metadata": {
    "id": "q2jaDosADoMK"
   },
   "outputs": [
    {
     "name": "stdout",
     "output_type": "stream",
     "text": [
      "INFO:httpx:HTTP Request: POST https://api.openai.com/v1/embeddings \"HTTP/1.1 200 OK\"\n",
      "HTTP Request: POST https://api.openai.com/v1/embeddings \"HTTP/1.1 200 OK\"\n",
      "INFO:llama_index.core.indices.struct_store.sql_retriever:> Table desc str: Table 'customers' has columns: customerNumber (INTEGER), customerName (VARCHAR(50)), contactLastName (VARCHAR(50)), contactFirstName (VARCHAR(50)), phone (VARCHAR(50)), addressLine1 (VARCHAR(50)), addressLine2 (VARCHAR(50)), city (VARCHAR(50)), state (VARCHAR(50)), postalCode (VARCHAR(15)), country (VARCHAR(50)), salesRepEmployeeNumber (INTEGER), creditLimit (DECIMAL(10, 2)),  and foreign keys: ['salesRepEmployeeNumber'] -> employees.['employeeNumber'].\n",
      "\n",
      "Table 'orders' has columns: orderNumber (INTEGER), orderDate (DATE), requiredDate (DATE), shippedDate (DATE), status (VARCHAR(15)), comments (TEXT), customerNumber (INTEGER),  and foreign keys: ['customerNumber'] -> customers.['customerNumber'].\n",
      "\n",
      "Table 'employees' has columns: employeeNumber (INTEGER), lastName (VARCHAR(50)), firstName (VARCHAR(50)), extension (VARCHAR(10)), email (VARCHAR(100)), officeCode (VARCHAR(10)), reportsTo (INTEGER), jobTitle (VARCHAR(50)),  and foreign keys: ['reportsTo'] -> employees.['employeeNumber'], ['officeCode'] -> offices.['officeCode'].\n",
      "> Table desc str: Table 'customers' has columns: customerNumber (INTEGER), customerName (VARCHAR(50)), contactLastName (VARCHAR(50)), contactFirstName (VARCHAR(50)), phone (VARCHAR(50)), addressLine1 (VARCHAR(50)), addressLine2 (VARCHAR(50)), city (VARCHAR(50)), state (VARCHAR(50)), postalCode (VARCHAR(15)), country (VARCHAR(50)), salesRepEmployeeNumber (INTEGER), creditLimit (DECIMAL(10, 2)),  and foreign keys: ['salesRepEmployeeNumber'] -> employees.['employeeNumber'].\n",
      "\n",
      "Table 'orders' has columns: orderNumber (INTEGER), orderDate (DATE), requiredDate (DATE), shippedDate (DATE), status (VARCHAR(15)), comments (TEXT), customerNumber (INTEGER),  and foreign keys: ['customerNumber'] -> customers.['customerNumber'].\n",
      "\n",
      "Table 'employees' has columns: employeeNumber (INTEGER), lastName (VARCHAR(50)), firstName (VARCHAR(50)), extension (VARCHAR(10)), email (VARCHAR(100)), officeCode (VARCHAR(10)), reportsTo (INTEGER), jobTitle (VARCHAR(50)),  and foreign keys: ['reportsTo'] -> employees.['employeeNumber'], ['officeCode'] -> offices.['officeCode'].\n",
      "INFO:httpx:HTTP Request: POST https://api.openai.com/v1/chat/completions \"HTTP/1.1 200 OK\"\n",
      "HTTP Request: POST https://api.openai.com/v1/chat/completions \"HTTP/1.1 200 OK\"\n",
      "INFO:httpx:HTTP Request: POST https://api.openai.com/v1/chat/completions \"HTTP/1.1 200 OK\"\n",
      "HTTP Request: POST https://api.openai.com/v1/chat/completions \"HTTP/1.1 200 OK\"\n"
     ]
    }
   ],
   "source": [
    "response = query_engine.query(\"How many tables inclassimodels  database?\")"
   ]
  },
  {
   "cell_type": "code",
   "execution_count": 24,
   "metadata": {
    "id": "4cKVpcUkDqqy"
   },
   "outputs": [
    {
     "name": "stdout",
     "output_type": "stream",
     "text": [
      "There are 0 tables in the inclassmodels database.\n"
     ]
    }
   ],
   "source": [
    "print(response)"
   ]
  },
  {
   "cell_type": "code",
   "execution_count": null,
   "metadata": {},
   "outputs": [],
   "source": []
  },
  {
   "cell_type": "code",
   "execution_count": null,
   "metadata": {},
   "outputs": [],
   "source": []
  },
  {
   "cell_type": "code",
   "execution_count": null,
   "metadata": {},
   "outputs": [],
   "source": []
  },
  {
   "cell_type": "code",
   "execution_count": null,
   "metadata": {},
   "outputs": [],
   "source": []
  },
  {
   "cell_type": "code",
   "execution_count": null,
   "metadata": {},
   "outputs": [
    {
     "name": "stdout",
     "output_type": "stream",
     "text": [
      "Generated SQL Query: There are 23 employees in the database.\n",
      "Error executing SQL: (pymysql.err.ProgrammingError) (1064, \"You have an error in your SQL syntax; check the manual that corresponds to your MySQL server version for the right syntax to use near 'There are 23 employees in the database.' at line 1\")\n",
      "[SQL: There are 23 employees in the database.]\n",
      "(Background on this error at: https://sqlalche.me/e/20/f405)\n"
     ]
    }
   ],
   "source": [
    "import openai\n",
    "import pandas as pd\n",
    "from sqlalchemy import create_engine, text\n",
    "from llama_index.core import VectorStoreIndex\n",
    "from llama_index.llms.openai import OpenAI\n",
    "from llama_index.core import Settings\n",
    "from llama_index.core.indices.struct_store.sql_query import SQLTableRetrieverQueryEngine\n",
    "from llama_index.core.objects import ObjectIndex, SQLTableNodeMapping, SQLTableSchema\n",
    "from llama_index.embeddings.openai import OpenAIEmbedding\n",
    "from llama_index.core.node_parser import SentenceSplitter\n",
    "\n",
    "\n",
    "# Set your OpenAI API key\n",
    "openai.api_key = \"\"  # Replace with your actual OpenAI API key\n",
    "\n",
    "\n",
    "# Database connection details\n",
    "db_user = \"root\"\n",
    "db_password = \"root\"\n",
    "db_host = \"localhost\"\n",
    "db_name = \"classicmodels\"\n",
    "\n",
    "# Create SQLAlchemy engine\n",
    "connection_string = f\"mysql+pymysql://{db_user}:{db_password}@{db_host}/{db_name}?charset=utf8\"\n",
    "engine = create_engine(connection_string)\n",
    "\n",
    "# Create SQLDatabase object\n",
    "from llama_index.core import SQLDatabase\n",
    "sql_database = SQLDatabase(engine)\n",
    "\n",
    "# List all tables in the database\n",
    "tables = sql_database._all_tables\n",
    "\n",
    "# Create SQL table schema descriptions\n",
    "table_schema_objs = []\n",
    "for table in tables:\n",
    "    table_schema_objs.append(SQLTableSchema(table_name=table))\n",
    "\n",
    "# Initialize ObjectIndex and SQLTableNodeMapping\n",
    "table_node_mapping = SQLTableNodeMapping(sql_database)\n",
    "obj_index = ObjectIndex.from_objects(table_schema_objs, table_node_mapping, VectorStoreIndex)\n",
    "\n",
    "# Define the SQL query generation function\n",
    "def generate_sql_query(query_str):\n",
    "    \"\"\"\n",
    "    Given a natural language question, generate the correct SQL query for the database.\n",
    "    This uses LlamaIndex's query engine to generate the SQL query from the input question.\n",
    "    \"\"\"\n",
    "    # Define the prompt for the model with a clear instruction to only generate SQL query\n",
    "    prompt = f\"\"\"\n",
    "    You are an agent designed to interact with a SQL database. \n",
    "    Given the following question, generate only the correct SQL query to retrieve the requested information.\n",
    "    \n",
    "    Question: {query_str}\n",
    "    SQL Query (only the query, no explanations or additional text):\n",
    "    \"\"\"\n",
    "\n",
    "    # Initialize the OpenAI model for query generation\n",
    "    Settings.llm = OpenAI(model=\"gpt-3.5-turbo\")  # Set model to use\n",
    "\n",
    "    # Initialize SQL Table Retrieval Engine\n",
    "    query_engine = SQLTableRetrieverQueryEngine(\n",
    "        sql_database, obj_index.as_retriever(similarity_top_k=3), service_context=Settings\n",
    "    )\n",
    "\n",
    "    # Query the engine to generate a SQL query based on the prompt\n",
    "    sql_query_response = query_engine.query(prompt)\n",
    "\n",
    "    # Check if the response has a 'text' attribute and extract the query\n",
    "    if hasattr(sql_query_response, 'text'):\n",
    "        sql_query = sql_query_response.text.strip()  # Extract the SQL query text and remove extra spaces\n",
    "    else:\n",
    "        # If the response does not have a 'text' attribute, fall back to using str() for extraction\n",
    "        sql_query = str(sql_query_response).strip()\n",
    "\n",
    "    # Return the clean SQL query\n",
    "    return sql_query\n",
    "\n",
    "# Example natural language query (question)\n",
    "query_str = \"How many employees do we have?\"\n",
    "\n",
    "# Generate the SQL query using the question\n",
    "generated_sql_query = generate_sql_query(query_str)\n",
    "\n",
    "# Print the generated SQL query\n",
    "print(f\"Generated SQL Query: {generated_sql_query}\")\n",
    "\n",
    "# Execute the generated SQL query using SQLAlchemy\n",
    "try:\n",
    "    with engine.connect() as connection:\n",
    "        result = connection.execute(text(generated_sql_query))  # Execute SQL query\n",
    "        df = pd.DataFrame(result.fetchall(), columns=result.keys())  # Convert to DataFrame\n",
    "        print(df)  # Display the results in a DataFrame\n",
    "except Exception as e:\n",
    "    print(f\"Error executing SQL: {e}\")\n"
   ]
  },
  {
   "cell_type": "code",
   "execution_count": null,
   "metadata": {},
   "outputs": [],
   "source": []
  }
 ],
 "metadata": {
  "colab": {
   "include_colab_link": true,
   "provenance": [],
   "toc_visible": true
  },
  "kernelspec": {
   "display_name": "Python 3 (ipykernel)",
   "language": "python",
   "name": "python3"
  },
  "language_info": {
   "codemirror_mode": {
    "name": "ipython",
    "version": 3
   },
   "file_extension": ".py",
   "mimetype": "text/x-python",
   "name": "python",
   "nbconvert_exporter": "python",
   "pygments_lexer": "ipython3",
   "version": "3.8.0"
  }
 },
 "nbformat": 4,
 "nbformat_minor": 4
}
